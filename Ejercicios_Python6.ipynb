{
  "nbformat": 4,
  "nbformat_minor": 0,
  "metadata": {
    "colab": {
      "provenance": [],
      "authorship_tag": "ABX9TyNa8WYCFfLQJz8kjGbg3+fr",
      "include_colab_link": true
    },
    "kernelspec": {
      "name": "python3",
      "display_name": "Python 3"
    },
    "language_info": {
      "name": "python"
    }
  },
  "cells": [
    {
      "cell_type": "markdown",
      "metadata": {
        "id": "view-in-github",
        "colab_type": "text"
      },
      "source": [
        "<a href=\"https://colab.research.google.com/github/HugoAndres23/Curso_Python/blob/main/Ejercicios_Python6.ipynb\" target=\"_parent\"><img src=\"https://colab.research.google.com/assets/colab-badge.svg\" alt=\"Open In Colab\"/></a>"
      ]
    },
    {
      "cell_type": "markdown",
      "source": [
        "EJERCICIO 13"
      ],
      "metadata": {
        "id": "TkJfnOo6Dsvw"
      }
    },
    {
      "cell_type": "code",
      "execution_count": null,
      "metadata": {
        "id": "MmmtJ5M-DoVH"
      },
      "outputs": [],
      "source": [
        "def generar_matriz(filas, columnas):\n",
        "    matriz = []\n",
        "    for i in range(filas):\n",
        "        fila = []\n",
        "        for j in range(columnas):\n",
        "            elemento = int(input(f\"Ingrese el elemento para la posición [{i}][{j}]: \"))\n",
        "            fila.append(elemento)\n",
        "        matriz.append(fila)\n",
        "    return matriz\n",
        "\n",
        "def mostrar_matriz(matriz):\n",
        "    for fila in matriz:\n",
        "        for elemento in fila:\n",
        "            print(elemento, end=\" \")\n",
        "        print()\n",
        "\n",
        "filas = int(input(\"Ingrese la cantidad de filas de la matriz: \"))\n",
        "columnas = int(input(\"Ingrese la cantidad de columnas de la matriz: \"))\n",
        "\n",
        "matriz_generada = generar_matriz(filas, columnas)\n",
        "\n",
        "print()\n",
        "print(\"Matriz generada:\")\n",
        "mostrar_matriz(matriz_generada)\n"
      ]
    },
    {
      "cell_type": "markdown",
      "source": [
        "EJERCICIO 14"
      ],
      "metadata": {
        "id": "jkp0UQs_EgC7"
      }
    },
    {
      "cell_type": "code",
      "source": [
        "def solicitar_dimensiones():\n",
        "    filas = int(input(\"Ingrese la cantidad de filas de las matrices: \"))\n",
        "    columnas = int(input(\"Ingrese la cantidad de columnas de las matrices: \"))\n",
        "    return filas, columnas\n",
        "\n",
        "def generar_matriz(filas, columnas, nombre_matriz):\n",
        "    matriz = []\n",
        "    print(f\"Ingrese los elementos para la Matriz1 {nombre_matriz}:\")\n",
        "    for i in range(filas):\n",
        "        fila = []\n",
        "        for j in range(columnas):\n",
        "            elemento = int(input(f\"Ingrese el elemento para la posición [{i}][{j}]: \"))\n",
        "            fila.append(elemento)\n",
        "        matriz.append(fila)\n",
        "    return matriz\n",
        "\n",
        "def sumar_matrices(matrices):\n",
        "    matriz_resultante = []\n",
        "    for i in range(len(matrices[0])):\n",
        "        fila = []\n",
        "        for j in range(len(matrices[0][0])):\n",
        "            suma = sum(matriz[i][j] for matriz in matrices)\n",
        "            fila.append(suma)\n",
        "        matriz_resultante.append(fila)\n",
        "    return matriz_resultante\n",
        "\n",
        "def mostrar_matriz(matriz, nombre_matriz):\n",
        "    print(f\"\\nMatriz {nombre_matriz}:\")\n",
        "    for fila in matriz:\n",
        "        for elemento in fila:\n",
        "            print(elemento, end=\" \")\n",
        "        print()\n",
        "\n",
        "cantidad_matrices = int(input(\"Ingrese la cantidad de matrices que desea sumar: \"))\n",
        "if cantidad_matrices < 2:\n",
        "    print(\"Debe ingresar al menos dos matrices para realizar la suma.\")\n",
        "else:\n",
        "    filas, columnas = solicitar_dimensiones()\n",
        "    matrices = []\n",
        "    for i in range(cantidad_matrices):\n",
        "        nombre_matriz = f\"{i + 1}\"\n",
        "        matriz = generar_matriz(filas, columnas, nombre_matriz)\n",
        "        matrices.append(matriz)\n",
        "\n",
        "    matriz_resultante = sumar_matrices(matrices)\n",
        "\n",
        "    for i in range(cantidad_matrices):\n",
        "        nombre_matriz = f\"{i + 1}\"\n",
        "        mostrar_matriz(matrices[i], nombre_matriz)\n",
        "\n",
        "    mostrar_matriz(matriz_resultante, \"Resultado\")\n"
      ],
      "metadata": {
        "id": "aV3pye2rEh_a"
      },
      "execution_count": null,
      "outputs": []
    }
  ]
}