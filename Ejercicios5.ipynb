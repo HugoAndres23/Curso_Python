{
  "nbformat": 4,
  "nbformat_minor": 0,
  "metadata": {
    "colab": {
      "provenance": [],
      "authorship_tag": "ABX9TyO2Rl8Htw+lmjhS5B1oTDGO",
      "include_colab_link": true
    },
    "kernelspec": {
      "name": "python3",
      "display_name": "Python 3"
    },
    "language_info": {
      "name": "python"
    }
  },
  "cells": [
    {
      "cell_type": "markdown",
      "metadata": {
        "id": "view-in-github",
        "colab_type": "text"
      },
      "source": [
        "<a href=\"https://colab.research.google.com/github/HugoAndres23/Curso_Python/blob/main/Ejercicios5.ipynb\" target=\"_parent\"><img src=\"https://colab.research.google.com/assets/colab-badge.svg\" alt=\"Open In Colab\"/></a>"
      ]
    },
    {
      "cell_type": "markdown",
      "source": [
        "EJERCICIO 10"
      ],
      "metadata": {
        "id": "wQCtQCzNCDnI"
      }
    },
    {
      "cell_type": "code",
      "execution_count": null,
      "metadata": {
        "id": "EJLExBFzBbKK"
      },
      "outputs": [],
      "source": [
        "def crear_lista():\n",
        "    longitud = int(input(\"Ingrese la longitud de la lista: \"))\n",
        "    lista = []\n",
        "    for _ in range(longitud):\n",
        "        elemento = int(input(\"Ingrese un elemento: \"))\n",
        "        lista.append(elemento)\n",
        "    return lista\n",
        "\n",
        "def mostrar_lista_suma(lista):\n",
        "    print(\"La lista ingresada es:\", lista)\n",
        "    suma = sum(lista)\n",
        "    print(\"La suma de los elementos de la lista es:\", suma)\n",
        "\n",
        "lista_ingresada = crear_lista()\n",
        "mostrar_lista_suma(lista_ingresada)"
      ]
    },
    {
      "cell_type": "markdown",
      "source": [
        "EJERCICIO 11"
      ],
      "metadata": {
        "id": "e-RT8gOmCGXN"
      }
    },
    {
      "cell_type": "code",
      "source": [
        "def eliminar_elemento(lista, elemento):\n",
        "    lista = [x for x in lista if x.lower() != elemento.lower()]\n",
        "    return lista\n",
        "\n",
        "lista = [\"A\", \"B\", \"b\", \"c\", \"E\", \"E\", \"f\"]\n",
        "print(\"Lista original:\", lista)\n",
        "\n",
        "elemento_eliminar = input(\"Ingrese el elemento que desea eliminar: \")\n",
        "lista_actualizada = eliminar_elemento(lista, elemento_eliminar)\n",
        "\n",
        "print(\"Lista actualizada:\", lista_actualizada)"
      ],
      "metadata": {
        "id": "Lo0ZdkvDCH3p"
      },
      "execution_count": null,
      "outputs": []
    },
    {
      "cell_type": "markdown",
      "source": [
        "EJERCICIO 12"
      ],
      "metadata": {
        "id": "gWfrCTEGCmpz"
      }
    },
    {
      "cell_type": "code",
      "source": [
        "def eliminar_elementos(numeros):\n",
        "    elementos_eliminados = [numeros.pop(0), numeros.pop()]\n",
        "    return numeros, elementos_eliminados\n",
        "\n",
        "numeros = [1, 2, 3, 4, 5]\n",
        "print(\"Lista original:\", numeros)\n",
        "\n",
        "numeros_actualizados, elementos_eliminados = eliminar_elementos(numeros)\n",
        "\n",
        "print(\"Lista actualizada:\", numeros_actualizados)\n",
        "print(\"Elementos eliminados:\", elementos_eliminados)\n"
      ],
      "metadata": {
        "id": "oAhsE8VZCobg"
      },
      "execution_count": null,
      "outputs": []
    }
  ]
}