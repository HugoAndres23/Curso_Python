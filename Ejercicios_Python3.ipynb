{
  "nbformat": 4,
  "nbformat_minor": 0,
  "metadata": {
    "colab": {
      "provenance": [],
      "authorship_tag": "ABX9TyPvIGSVaBNlvUrlGoIdB0pG",
      "include_colab_link": true
    },
    "kernelspec": {
      "name": "python3",
      "display_name": "Python 3"
    },
    "language_info": {
      "name": "python"
    }
  },
  "cells": [
    {
      "cell_type": "markdown",
      "metadata": {
        "id": "view-in-github",
        "colab_type": "text"
      },
      "source": [
        "<a href=\"https://colab.research.google.com/github/HugoAndres23/Curso_Python/blob/main/Ejercicios_Python3.ipynb\" target=\"_parent\"><img src=\"https://colab.research.google.com/assets/colab-badge.svg\" alt=\"Open In Colab\"/></a>"
      ]
    },
    {
      "cell_type": "markdown",
      "source": [
        "**EJERCICIO 5**"
      ],
      "metadata": {
        "id": "sXJ-J7q_R8zC"
      }
    },
    {
      "cell_type": "code",
      "execution_count": null,
      "metadata": {
        "id": "OMrDNHhUReqJ"
      },
      "outputs": [],
      "source": [
        "def fibonacci_hasta_n(n):\n",
        "    fibonacci = [0, 1]\n",
        "    while True:\n",
        "        siguiente = fibonacci[-1] + fibonacci[-2]\n",
        "        if siguiente > n:\n",
        "            break\n",
        "        fibonacci.append(siguiente)\n",
        "    return fibonacci\n",
        "\n",
        "def imprimir_horizontal(lista):\n",
        "    for elemento in lista:\n",
        "        print(elemento, end=' ')\n",
        "\n",
        "\n",
        "numero_limite = int(input('Cual es el numero limite:' ))\n",
        "sucesion_fibonacci = fibonacci_hasta_n(numero_limite)\n",
        "imprimir_horizontal(sucesion_fibonacci)"
      ]
    },
    {
      "cell_type": "markdown",
      "source": [
        "**EJERCICIO 6**"
      ],
      "metadata": {
        "id": "GpJB8ijByfr2"
      }
    },
    {
      "cell_type": "code",
      "source": [
        "cadena = input(\"Ingresa una frase: \")\n",
        "\n",
        "palabra_a_eliminar = input(\"Ingresa la palabra que deseas eliminar: \")\n",
        "\n",
        "palabras = cadena.split()\n",
        "\n",
        "nueva_cadena = ' '.join([palabra for palabra in palabras if palabra != palabra_a_eliminar])\n",
        "\n",
        "print(\"Frase resultante:\", nueva_cadena)"
      ],
      "metadata": {
        "id": "qIioFV2_JgfQ"
      },
      "execution_count": null,
      "outputs": []
    },
    {
      "cell_type": "markdown",
      "source": [
        "**EJERCICIO 7**"
      ],
      "metadata": {
        "id": "gVykBmHxFuuU"
      }
    },
    {
      "cell_type": "code",
      "source": [
        "cadena = input(\"Ingrese una frase: \")\n",
        "new_cadena = \"\"\n",
        "for index in range(len(cadena) - 1, -1, -1):\n",
        " new_cadena = new_cadena + cadena[index]\n",
        "\n",
        "print(\"Frase invertida: \", new_cadena)"
      ],
      "metadata": {
        "id": "rAtBSDctFycb",
        "outputId": "276971f8-df8f-487e-b466-e73e4c259fe2",
        "colab": {
          "base_uri": "https://localhost:8080/"
        }
      },
      "execution_count": 19,
      "outputs": [
        {
          "output_type": "stream",
          "name": "stdout",
          "text": [
            "Ingrese una frase: Juand awjdnand\n",
            "Frase invertida:  dnandjwa dnauJ\n"
          ]
        }
      ]
    }
  ]
}