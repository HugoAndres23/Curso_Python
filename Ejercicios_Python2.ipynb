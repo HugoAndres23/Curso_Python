{
  "nbformat": 4,
  "nbformat_minor": 0,
  "metadata": {
    "colab": {
      "provenance": [],
      "authorship_tag": "ABX9TyNpyZSsvSLpZNpmPiIG2Ir+",
      "include_colab_link": true
    },
    "kernelspec": {
      "name": "python3",
      "display_name": "Python 3"
    },
    "language_info": {
      "name": "python"
    }
  },
  "cells": [
    {
      "cell_type": "markdown",
      "metadata": {
        "id": "view-in-github",
        "colab_type": "text"
      },
      "source": [
        "<a href=\"https://colab.research.google.com/github/HugoAndres23/Curso_Python/blob/main/Ejercicios_Python2.ipynb\" target=\"_parent\"><img src=\"https://colab.research.google.com/assets/colab-badge.svg\" alt=\"Open In Colab\"/></a>"
      ]
    },
    {
      "cell_type": "code",
      "source": [
        "numeros = []\n",
        "num_mayor = 0\n",
        "respuesta = \"si\"\n",
        "while respuesta != \"no\":\n",
        "  num = int(input(\"Ingrese un numero: \"))\n",
        "  if num > num_mayor:\n",
        "    num_mayor = num\n",
        "  numeros.append(num)\n",
        "  respuesta = input(\"¿Desea ingresar un numero? \\t si/no: \")\n",
        "\n",
        "print(f\"Lista de numeros: {numeros}\")\n",
        "print(f\"El numero {num_mayor} es el mas grande de los {len(numeros)}\")"
      ],
      "metadata": {
        "id": "xBRnSQ5i_p0r"
      },
      "execution_count": null,
      "outputs": []
    }
  ]
}