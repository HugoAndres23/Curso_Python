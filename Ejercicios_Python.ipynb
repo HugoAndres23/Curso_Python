{
  "nbformat": 4,
  "nbformat_minor": 0,
  "metadata": {
    "colab": {
      "provenance": [],
      "authorship_tag": "ABX9TyMUSXaGt7xV4u9BlMqPVCP+",
      "include_colab_link": true
    },
    "kernelspec": {
      "name": "python3",
      "display_name": "Python 3"
    },
    "language_info": {
      "name": "python"
    }
  },
  "cells": [
    {
      "cell_type": "markdown",
      "metadata": {
        "id": "view-in-github",
        "colab_type": "text"
      },
      "source": [
        "<a href=\"https://colab.research.google.com/github/HugoAndres23/Curso_Python/blob/main/Ejercicios_Python.ipynb\" target=\"_parent\"><img src=\"https://colab.research.google.com/assets/colab-badge.svg\" alt=\"Open In Colab\"/></a>"
      ]
    },
    {
      "cell_type": "markdown",
      "source": [
        "**EJERCICIO 1**"
      ],
      "metadata": {
        "id": "_eHcSmc-4AgX"
      }
    },
    {
      "cell_type": "code",
      "execution_count": null,
      "metadata": {
        "id": "7d3cVmPjBLmD"
      },
      "outputs": [],
      "source": [
        "trabajadores = []\n",
        "main_opc = int\n",
        "dep_opc = int\n",
        "ant_opc = int\n",
        "\n",
        "def nuevo_trabajador(clave_dep, antiguedad):\n",
        "  match clave_dep:\n",
        "    case 1:\n",
        "      departamento = \"Atencion al Cliente\"\n",
        "      if antiguedad == 1: vacaciones = \"6 dias\"\n",
        "      elif antiguedad == 2: vacaciones = \"14 dias\"\n",
        "      elif antiguedad == 3: vacaciones = \"20 dias\"\n",
        "    case 2:\n",
        "      departamento = \"Logıstica\"\n",
        "      if antiguedad == 1: vacaciones = \"7 dias\"\n",
        "      elif antiguedad == 2: vacaciones = \"15 dias\"\n",
        "      elif antiguedad == 3: vacaciones = \"22 dias\"\n",
        "    case 3:\n",
        "      departamento = \"Gerencia\"\n",
        "      if antiguedad == 1: vacaciones = \"10 dias\"\n",
        "      elif antiguedad == 2: vacaciones = \"20 dias\"\n",
        "      elif antiguedad == 3: vacaciones = \"30 dias\"\n",
        "  data = {\n",
        "    \"nombre\": input(\"Escriba el nombre del trabajador: \"),\n",
        "    \"departamento\": departamento,\n",
        "    \"antiguedad\": antiguedad,\n",
        "    \"vacaciones\": vacaciones,\n",
        "  }\n",
        "  trabajadores.append(data)\n",
        "\n",
        "while(main_opc != 3):\n",
        "  dep_opc = int\n",
        "  ant_opc = int\n",
        "  print(\"\\n\\n\\t\\t\\t VACACIONES TRABAJADORES \\n\")\n",
        "  print(\" 1. Ingresar Trabajador. \\n\")\n",
        "  print(\" 2. Consultar Vacaciones. \\n\")\n",
        "  print(\" 3. Salir. \\n\")\n",
        "  main_opc = int(input(\"Escoge una opcion: \"))\n",
        "  if main_opc > 4 or main_opc < 1: print(\"Opcion erronea, Intenta de nuevo\")\n",
        "  match main_opc:\n",
        "    case 1:\n",
        "      while(dep_opc != 4):\n",
        "        ant_opc = int\n",
        "        print(\"\\n\\n\\t\\t\\t DEPARTAMENTOS \\n\")\n",
        "        print(\" 1. Atencion al Cliente. \\n\")\n",
        "        print(\" 2. Logıstica. \\n\")\n",
        "        print(\" 3. Gerencia. \\n\")\n",
        "        print(\" 4. Regresar. \\n\")\n",
        "        dep_opc = int(input(\"Escoge el departamento del trabajador: \"))\n",
        "        if dep_opc > 4 or dep_opc < 1: print(\"Opcion erronea, Intenta de nuevo\")\n",
        "        if dep_opc > 0 and dep_opc < 4:\n",
        "          while(ant_opc != 4):\n",
        "            print(\"\\n\\n\\t\\t\\t ANTIGUEDAD \\n\")\n",
        "            print(\" 1. 1 año o menos. \\n\")\n",
        "            print(\" 2. 2 a 6 años. \\n\")\n",
        "            print(\" 3. 7 años o más. \\n\")\n",
        "            print(\" 4. Regresar. \\n\")\n",
        "            ant_opc = int(input(\"Escoge la antiguedad del trabajador: \"))\n",
        "            if ant_opc > 4 or ant_opc < 1: print(\"Opcion erronea, Intenta de nuevo\")\n",
        "            if ant_opc > 0 and ant_opc < 4:\n",
        "              nuevo_trabajador(dep_opc, ant_opc)\n",
        "              ant_opc = 4\n",
        "              dep_opc = 4\n",
        "      main_opc = int\n",
        "    case 2:\n",
        "      print(\"\\n\\n\\t\\t\\t NOMBRES \\t\\t\\t DEPARTAMENTOS \\t\\t\\t VACACIONES\\n\")\n",
        "      for trabajador in trabajadores:\n",
        "        print(\"\\t\\t\\t\", trabajador['nombre'], \"\\t\\t\\t\", trabajador['departamento'], \"\\t\\t\\t\", trabajador['vacaciones'])\n",
        "\n"
      ]
    },
    {
      "cell_type": "markdown",
      "source": [
        "**EJERCICIO 2**"
      ],
      "metadata": {
        "id": "ia1OjVVP4Es8"
      }
    },
    {
      "cell_type": "code",
      "source": [
        "respuesta = str\n",
        "while(respuesta != \"n\"):\n",
        "  num = int(input(\"Ingrese un numero: \"))\n",
        "  if num % 2 == 0:\n",
        "    print(num, \"es par\")\n",
        "  else:\n",
        "    print(num, \"es impar\")\n",
        "  respuesta = input(\"Desea ingresar otro numero? y/n: \")"
      ],
      "metadata": {
        "colab": {
          "base_uri": "https://localhost:8080/"
        },
        "id": "mANRT6IR4G3J",
        "outputId": "05187cb1-593d-4b4f-f7c1-800b5d0ca00d"
      },
      "execution_count": null,
      "outputs": [
        {
          "name": "stdout",
          "output_type": "stream",
          "text": [
            "Ingrese un numero: 1243\n",
            "1243 es impar\n",
            "Desea ingresar otro numero? y/n: y\n",
            "Ingrese un numero: 523\n",
            "523 es impar\n",
            "Desea ingresar otro numero? y/n: 123\n",
            "Ingrese un numero: 546\n",
            "546 es par\n",
            "Desea ingresar otro numero? y/n: 213\n",
            "Ingrese un numero: 5342\n",
            "5342 es par\n",
            "Desea ingresar otro numero? y/n: 5467\n",
            "Ingrese un numero: 234\n",
            "234 es par\n",
            "Desea ingresar otro numero? y/n: 2354\n",
            "Ingrese un numero: 3456\n",
            "3456 es par\n",
            "Desea ingresar otro numero? y/n: n\n"
          ]
        }
      ]
    }
  ]
}